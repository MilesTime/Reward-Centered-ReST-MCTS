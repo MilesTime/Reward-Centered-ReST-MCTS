{
 "cells": [
  {
   "cell_type": "code",
   "execution_count": null,
   "metadata": {},
   "outputs": [],
   "source": [
    "from envs.math_env import MathEnv\n",
    "from mcts.rest_mcts import RewardCenteredReSTMCTS\n",
    "from loggers.trajectory_logger import Logger\n",
    "\n",
    "env = MathEnv()\n",
    "logger = Logger()\n",
    "mcts = RewardCenteredReSTMCTS(env, logger=logger)\n",
    "mcts.search()\n",
    "logger.dump('log.txt')\n",
    "!cat log.txt"
   ]
  }
 ],
 "metadata": {
  "kernelspec": {
   "display_name": "Python 3",
   "language": "python",
   "name": "python3"
  },
  "language_info": {
   "name": "python",
   "version": "3.9"
  }
 },
 "nbformat": 4,
 "nbformat_minor": 2
}
